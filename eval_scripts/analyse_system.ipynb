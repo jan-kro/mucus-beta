{
 "cells": [
  {
   "cell_type": "code",
   "execution_count": 1,
   "metadata": {},
   "outputs": [],
   "source": [
    "import mucus_rust as mc\n",
    "import matplotlib.pyplot as plt\n",
    "import numpy as np\n",
    "\n",
    "import h5py\n",
    "import os"
   ]
  },
  {
   "cell_type": "code",
   "execution_count": 20,
   "metadata": {},
   "outputs": [
    {
     "name": "stdout",
     "output_type": "stream",
     "text": [
      " 0 /net/data04/janmak98/results/january/final/5tracer5a/configs/cfg_long_loop_3wtp.toml\n",
      " 1 /net/data04/janmak98/results/january/final/5tracer5a/configs/cfg_long_loop_2wtp.toml\n",
      " 2 /net/data04/janmak98/results/january/final/5tracer5a/configs/cfg_long_loop_4wtp.toml\n",
      " 3 /net/data04/janmak98/results/january/final/5tracer5a/configs/cfg_long_loop_1wtp.toml\n",
      "\n",
      "Selected system:\n",
      " 1 /net/data04/janmak98/results/january/final/5tracer5a/configs/cfg_long_loop_2wtp.toml\n"
     ]
    }
   ],
   "source": [
    "cfg_dir = \"/net/data04/janmak98/results/big_cleanup/new_lj/longloop/notracer/configs\"\n",
    "cfg_dir = \"/net/data04/janmak98/results/january/final/5tracer5a/configs\"\n",
    "\n",
    "cfg_relpaths = os.listdir(cfg_dir)\n",
    "cfg_paths = [cfg_dir + \"/\" + cfg_fname for cfg_fname in cfg_relpaths]\n",
    "for i, cfg_path in enumerate(cfg_paths):\n",
    "    print(f'{i:2d}', cfg_path)\n",
    "    \n",
    "    \n",
    "idx_cfg = 1\n",
    "fname_cfg = cfg_paths[idx_cfg]\n",
    "print(\"\\nSelected system:\\n\", idx_cfg, fname_cfg)"
   ]
  },
  {
   "cell_type": "code",
   "execution_count": 21,
   "metadata": {},
   "outputs": [
    {
     "name": "stdout",
     "output_type": "stream",
     "text": [
      "Total number of frames: 1000000\n",
      "Loading frames 0 - 100 with stride 1\n"
     ]
    }
   ],
   "source": [
    "\n",
    "#! CAREFUL CAREFUL CAREFUL CAREFUL CAREFUL CAREFUL CAREFUL CAREFUL CAREFUL CAREFUL CAREFUL CAREFUL\n",
    "#! DO NOT LOAD EVERYTHIN INTO MEMEORY IF THE TRAJECTORY IS LONG\n",
    "\n",
    "cfg = mc.Config.from_toml(fname_cfg)\n",
    "\n",
    "n_frames_tot = mc.utils.get_number_of_frames(cfg)\n",
    "print(\"Total number of frames:\", n_frames_tot)\n",
    "\n",
    "#! CHOOSE FRAME RANGE AND STRIDE\n",
    "frame_range = [0, 100]\n",
    "stride = 1\n",
    "\n",
    "frame_range = mc.utils._validate_frame_range(frame_range, n_frames_tot)\n",
    "\n",
    "print(\"Loading frames\", frame_range[0], \"-\", frame_range[1], \"with stride\", stride)"
   ]
  },
  {
   "cell_type": "code",
   "execution_count": null,
   "metadata": {},
   "outputs": [],
   "source": []
  },
  {
   "cell_type": "code",
   "execution_count": 22,
   "metadata": {},
   "outputs": [],
   "source": [
    "cfg = mc.Config.from_toml(fname_cfg)\n",
    "\n",
    "# get dataset names\n",
    "dset_traj = mc.utils.ResultsFiletypes.Trajectory.value\n",
    "dset_forc = mc.utils.ResultsFiletypes.Forces.value\n",
    "dset_dist = mc.utils.ResultsFiletypes.Distances.value\n",
    "\n",
    "#trajectory = h5py.File(mc.utils.get_path(cfg, dset_traj), \"r\", locking='false')[dset_traj][frame_range[0]:frame_range[1]:stride]\n",
    "#forces     = h5py.File(mc.utils.get_path(cfg, dset_forc), \"r\", locking='false')[dset_forc][frame_range[0]:frame_range[1]:stride]\n",
    "distances  = h5py.File(mc.utils.get_path(cfg, dset_dist), \"r\", locking='false')[dset_dist][frame_range[0]:frame_range[1]:stride]\n",
    "\n",
    "sim = mc.Analysis(cfg=cfg, frame_range=None, stride=1)"
   ]
  },
  {
   "cell_type": "code",
   "execution_count": 27,
   "metadata": {},
   "outputs": [
    {
     "name": "stdout",
     "output_type": "stream",
     "text": [
      "[False False False ... False False False]\n",
      "1\n",
      "[[ 0.     2.     2.828 ... 17.8   10.71   9.12 ]\n",
      " [ 2.     0.     2.    ... 18.84  11.85   7.145]\n",
      " [ 2.828  2.     0.    ... 18.52  10.39   7.727]\n",
      " ...\n",
      " [17.8   18.84  18.52  ...  0.    16.69  21.75 ]\n",
      " [10.71  11.85  10.39  ... 16.69   0.    17.8  ]\n",
      " [ 9.12   7.145  7.727 ... 21.75  17.8    0.   ]]\n",
      "2\n",
      "69169\n",
      "(263, 263)\n",
      "[ 2.     2.828  4.473 ... 16.69  21.75  17.8  ]\n"
     ]
    }
   ],
   "source": [
    "#off_diag_dist = distances[:][[np.triu_indices(cfg.n_particles, k = 1)]]\n",
    "\n",
    "for i in range(1, 100):\n",
    "    if np.any(distances[i][np.triu_indices(cfg.n_particles, k = 1)] == 0):\n",
    "        print(i)\n",
    "        print(distances[i])\n",
    "        print(np.sum(distances[i][np.triu_indices(cfg.n_particles, k = 1)] == 0))\n",
    "        print(cfg.n_particles**2)\n",
    "        print(distances[i].shape)\n",
    "        print(distances[i][np.triu_indices(cfg.n_particles, k = 1)])\n",
    "        break"
   ]
  },
  {
   "cell_type": "code",
   "execution_count": 29,
   "metadata": {},
   "outputs": [
    {
     "name": "stdout",
     "output_type": "stream",
     "text": [
      "263\n",
      "0 128\n",
      "129 257\n"
     ]
    }
   ],
   "source": [
    "print(cfg.n_particles)\n",
    "for i in range(cfg.n_particles-1):\n",
    "    for j in range(i+1, cfg.n_particles):\n",
    "        d = distances[1][i,j]\n",
    "        if d == 0:\n",
    "            print(i,j)"
   ]
  },
  {
   "cell_type": "code",
   "execution_count": 26,
   "metadata": {},
   "outputs": [
    {
     "name": "stdout",
     "output_type": "stream",
     "text": [
      "[[1. 0. 0. 0. 0.]\n",
      " [1. 1. 0. 0. 0.]\n",
      " [1. 1. 1. 0. 0.]\n",
      " [1. 1. 1. 1. 0.]\n",
      " [1. 1. 1. 1. 1.]]\n"
     ]
    }
   ],
   "source": [
    "A = np.ones([5, 5])\n",
    "A[np.triu_indices(5, k = 1)] = 0\n",
    "print(A)\n"
   ]
  },
  {
   "cell_type": "code",
   "execution_count": 24,
   "metadata": {},
   "outputs": [
    {
     "ename": "NameError",
     "evalue": "name 'off_diag_dist' is not defined",
     "output_type": "error",
     "traceback": [
      "\u001b[0;31m---------------------------------------------------------------------------\u001b[0m",
      "\u001b[0;31mNameError\u001b[0m                                 Traceback (most recent call last)",
      "Cell \u001b[0;32mIn[24], line 2\u001b[0m\n\u001b[1;32m      1\u001b[0m n_krise \u001b[38;5;241m=\u001b[39m \u001b[38;5;241m0\u001b[39m\n\u001b[0;32m----> 2\u001b[0m \u001b[38;5;28;01mfor\u001b[39;00m d \u001b[38;5;129;01min\u001b[39;00m \u001b[43moff_diag_dist\u001b[49m:\n\u001b[1;32m      3\u001b[0m     \u001b[38;5;28;01mif\u001b[39;00m d \u001b[38;5;241m==\u001b[39m \u001b[38;5;241m0\u001b[39m:\n\u001b[1;32m      4\u001b[0m         n_krise \u001b[38;5;241m+\u001b[39m\u001b[38;5;241m=\u001b[39m \u001b[38;5;241m1\u001b[39m\n",
      "\u001b[0;31mNameError\u001b[0m: name 'off_diag_dist' is not defined"
     ]
    }
   ],
   "source": [
    "n_krise = 0\n",
    "for d in off_diag_dist:\n",
    "    if d == 0:\n",
    "        n_krise += 1\n",
    "        \n",
    "        \n",
    "print(n_krise)"
   ]
  }
 ],
 "metadata": {
  "kernelspec": {
   "display_name": "mucus",
   "language": "python",
   "name": "python3"
  },
  "language_info": {
   "codemirror_mode": {
    "name": "ipython",
    "version": 3
   },
   "file_extension": ".py",
   "mimetype": "text/x-python",
   "name": "python",
   "nbconvert_exporter": "python",
   "pygments_lexer": "ipython3",
   "version": "3.10.13"
  }
 },
 "nbformat": 4,
 "nbformat_minor": 2
}
